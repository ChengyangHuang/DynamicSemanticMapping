{
 "cells": [
  {
   "cell_type": "code",
   "execution_count": 17,
   "metadata": {},
   "outputs": [
    {
     "name": "stdout",
     "output_type": "stream",
     "text": [
      "0\n",
      "1\n",
      "2\n",
      "3\n",
      "4\n",
      "5\n",
      "6\n",
      "7\n",
      "8\n",
      "9\n",
      "10\n",
      "11\n",
      "12\n",
      "13\n",
      "14\n",
      "15\n",
      "16\n",
      "17\n",
      "18\n",
      "19\n",
      "[ 0.  1.  5.  6.  9. 10. 11. 12. 13. 14. 15. 16. 17. 18. 19.]\n",
      "[0.00000000e+00 1.38840680e-03 0.00000000e+00 0.00000000e+00\n",
      " 7.57453794e-03 0.00000000e+00 0.00000000e+00 9.88129015e-03\n",
      " 1.89282807e-05 3.77804590e-04 5.27966419e-03 8.39771582e-05\n",
      " 1.57724743e-02 0.00000000e+00 0.00000000e+00]\n"
     ]
    }
   ],
   "source": [
    "import numpy as np\n",
    "from sklearn.metrics import jaccard_score\n",
    "\n",
    "evaluation_folder = '/home/cknuth/win2020/mobrob/catkin_ws/src/BKISemanticMapping/data/semantickitti_04/evaluations_ours/'\n",
    "\n",
    "gt_all = np.array([])\n",
    "pred_all = np.array([])\n",
    "for i in range(20):\n",
    "    if i % 10 == 0:\n",
    "        print(i)\n",
    "    \n",
    "    result = np.loadtxt(evaluation_folder + str(i).zfill(6) + '.txt', dtype=np.uint32)\n",
    "    gt = result[:,0]\n",
    "    gt = gt & 0xFFFF\n",
    "    pred = result[:,1]\n",
    "    gt_all = np.concatenate((gt_all, gt))\n",
    "    pred_all = np.concatenate((pred_all, pred))\n",
    "    \n",
    "# Ignore background and sky label\n",
    "pred_all = pred_all[gt_all != 0]\n",
    "gt_all = gt_all[gt_all != 0]\n",
    "    \n",
    "print(np.unique(np.concatenate((gt_all, pred_all), axis=0)) )\n",
    "print(jaccard_score(gt_all, pred_all, average=None))"
   ]
  },
  {
   "cell_type": "code",
   "execution_count": 26,
   "metadata": {},
   "outputs": [
    {
     "name": "stdout",
     "output_type": "stream",
     "text": [
      "0\n",
      "10\n",
      "[ 0.  1.  4.  5.  6.  9. 10. 11. 12. 13. 14. 15. 16. 17. 18. 19.]\n",
      "[0.00000000e+00 2.45263713e-02 0.00000000e+00 0.00000000e+00\n",
      " 0.00000000e+00 7.54134013e-03 0.00000000e+00 0.00000000e+00\n",
      " 9.69688820e-03 1.92830560e-05 3.78136397e-04 4.79734977e-03\n",
      " 8.61103935e-05 1.57724743e-02 0.00000000e+00 0.00000000e+00]\n"
     ]
    }
   ],
   "source": [
    "import numpy as np\n",
    "from sklearn.metrics import jaccard_score\n",
    "\n",
    "evaluation_folder = '/home/cknuth/win2020/mobrob/catkin_ws/src/BKISemanticMapping/data/semantickitti_04/evaluations_baseline/'\n",
    "\n",
    "gt_all = np.array([])\n",
    "pred_all = np.array([])\n",
    "for i in range(20):\n",
    "    if i % 10 == 0:\n",
    "        print(i)\n",
    "    \n",
    "    result = np.loadtxt(evaluation_folder + str(i).zfill(6) + '.txt', dtype=np.uint32)\n",
    "    gt = result[:,0]\n",
    "    gt = gt & 0xFFFF\n",
    "    pred = result[:,1]\n",
    "    gt_all = np.concatenate((gt_all, gt))\n",
    "    pred_all = np.concatenate((pred_all, pred))\n",
    "    \n",
    "# Ignore background and sky label\n",
    "pred_all = pred_all[gt_all != 0]\n",
    "gt_all = gt_all[gt_all != 0]\n",
    "    \n",
    "print(np.unique(np.concatenate((gt_all, pred_all), axis=0)) )\n",
    "print(jaccard_score(gt_all, pred_all, average=None))"
   ]
  },
  {
   "cell_type": "code",
   "execution_count": 23,
   "metadata": {},
   "outputs": [
    {
     "name": "stdout",
     "output_type": "stream",
     "text": [
      "[ 0  1  9 11 13 14 15 16 17 18]\n",
      "[0.01282031 0.         0.         0.         0.         0.\n",
      " 0.         0.         0.         0.        ]\n"
     ]
    }
   ],
   "source": [
    "result = np.loadtxt(evaluation_folder + str(99).zfill(6) + '.txt', dtype=np.uint32)\n",
    "gt = result[:,0]\n",
    "gt = gt & 0xFFFF\n",
    "pred = result[:,1]\n",
    "\n",
    "print(np.unique(np.concatenate((gt, pred), axis=0)) )\n",
    "print(jaccard_score(gt, pred, average=None))"
   ]
  },
  {
   "cell_type": "code",
   "execution_count": 25,
   "metadata": {},
   "outputs": [
    {
     "data": {
      "text/plain": [
       "array([0.66666667, 0.5       ])"
      ]
     },
     "execution_count": 25,
     "metadata": {},
     "output_type": "execute_result"
    }
   ],
   "source": [
    "a = np.array([1, 0, 0, 0])\n",
    "b = np.array([1, 0, 1, 0])\n",
    "jaccard_score(a, b, average=None)"
   ]
  },
  {
   "cell_type": "code",
   "execution_count": 12,
   "metadata": {},
   "outputs": [
    {
     "data": {
      "text/plain": [
       "array([ 0.,  1.,  5.,  9., 11., 12., 13., 14., 15., 16., 17., 18.])"
      ]
     },
     "execution_count": 12,
     "metadata": {},
     "output_type": "execute_result"
    }
   ],
   "source": [
    "np.unique(pred_all, axis=0)"
   ]
  },
  {
   "cell_type": "code",
   "execution_count": 13,
   "metadata": {},
   "outputs": [
    {
     "data": {
      "text/plain": [
       "array([ 1.,  5.,  6.,  9., 10., 11., 12., 13., 14., 15., 16., 17., 18.,\n",
       "       19.])"
      ]
     },
     "execution_count": 13,
     "metadata": {},
     "output_type": "execute_result"
    }
   ],
   "source": [
    "np.unique(gt_all, axis=0)"
   ]
  }
 ],
 "metadata": {
  "kernelspec": {
   "display_name": "Python 3",
   "language": "python",
   "name": "python3"
  },
  "language_info": {
   "codemirror_mode": {
    "name": "ipython",
    "version": 3
   },
   "file_extension": ".py",
   "mimetype": "text/x-python",
   "name": "python",
   "nbconvert_exporter": "python",
   "pygments_lexer": "ipython3",
   "version": "3.7.7"
  }
 },
 "nbformat": 4,
 "nbformat_minor": 2
}
