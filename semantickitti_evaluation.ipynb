{
 "cells": [
  {
   "cell_type": "code",
   "execution_count": 1,
   "metadata": {},
   "outputs": [
    {
     "name": "stdout",
     "output_type": "stream",
     "text": [
      "0\n",
      "10\n",
      "20\n",
      "30\n",
      "40\n",
      "50\n",
      "[ 0.  1.  5.  6.  9. 10. 11. 12. 13. 14. 15. 16. 17. 18. 19.]\n",
      "[4.45297621e-02 3.12595244e-05 0.00000000e+00 0.00000000e+00\n",
      " 3.14351180e-03 0.00000000e+00 5.23820749e-06 8.48254041e-03\n",
      " 7.22861955e-06 7.30959679e-05 9.31913205e-04 4.40431623e-05\n",
      " 6.31693552e-03 0.00000000e+00 0.00000000e+00]\n"
     ]
    }
   ],
   "source": [
    "import numpy as np\n",
    "from sklearn.metrics import jaccard_score\n",
    "\n",
    "evaluation_folder = '/home/cknuth/win2020/mobrob/catkin_ws/src/BKISemanticMapping/data/semantickitti_04/evaluations_ours/'\n",
    "\n",
    "gt_all = np.array([])\n",
    "pred_all = np.array([])\n",
    "for i in range(60):\n",
    "    if i % 10 == 0:\n",
    "        print(i)\n",
    "    \n",
    "    result = np.loadtxt(evaluation_folder + str(i).zfill(6) + '.txt', dtype=np.uint32)\n",
    "    gt = result[:,0]\n",
    "    gt = gt & 0xFFFF\n",
    "    pred = result[:,1]\n",
    "    gt_all = np.concatenate((gt_all, gt))\n",
    "    pred_all = np.concatenate((pred_all, pred))\n",
    "    \n",
    "    \n",
    "gt_all_ours = gt_all\n",
    "pred_all_ours = pred_all\n",
    "\n",
    "classes_ours = np.unique(np.concatenate((gt_all_ours, pred_all_ours), axis=0))\n",
    "scores_ours = jaccard_score(gt_all_ours, pred_all_ours, average=None)\n",
    "\n",
    "# Ignore background and sky label\n",
    "#pred_all = pred_all[gt_all != 0]\n",
    "#gt_all = gt_all[gt_all != 0]\n",
    "print(np.unique(np.concatenate((gt_all, pred_all), axis=0)) )\n",
    "print(jaccard_score(gt_all, pred_all, average=None))"
   ]
  },
  {
   "cell_type": "code",
   "execution_count": 11,
   "metadata": {},
   "outputs": [
    {
     "name": "stdout",
     "output_type": "stream",
     "text": [
      "0 & 4.453 \\\\\n",
      "1 & 0.003126 \\\\\n",
      "5 & 0.0 \\\\\n",
      "6 & 0.0 \\\\\n",
      "9 & 0.3144 \\\\\n",
      "10 & 0.0 \\\\\n",
      "11 & 0.0005238 \\\\\n",
      "12 & 0.8483 \\\\\n",
      "13 & 0.0007229 \\\\\n",
      "14 & 0.00731 \\\\\n",
      "15 & 0.09319 \\\\\n",
      "16 & 0.004404 \\\\\n",
      "17 & 0.6317 \\\\\n",
      "18 & 0.0 \\\\\n"
     ]
    }
   ],
   "source": []
  },
  {
   "cell_type": "code",
   "execution_count": 12,
   "metadata": {},
   "outputs": [
    {
     "name": "stdout",
     "output_type": "stream",
     "text": [
      "0\n",
      "10\n",
      "20\n",
      "30\n",
      "40\n",
      "50\n",
      "[ 0.  1.  4.  5.  6.  7.  9. 10. 11. 12. 13. 14. 15. 16. 17. 18. 19.]\n",
      "[4.45347438e-02 1.29181387e-02 0.00000000e+00 0.00000000e+00\n",
      " 0.00000000e+00 0.00000000e+00 3.13001808e-03 0.00000000e+00\n",
      " 0.00000000e+00 8.28367373e-03 7.28268469e-06 7.31087245e-05\n",
      " 8.18289424e-04 4.46149728e-05 6.31691784e-03 0.00000000e+00\n",
      " 0.00000000e+00]\n"
     ]
    }
   ],
   "source": [
    "import numpy as np\n",
    "from sklearn.metrics import jaccard_score\n",
    "\n",
    "evaluation_folder = '/home/cknuth/win2020/mobrob/catkin_ws/src/BKISemanticMapping/data/semantickitti_04/evaluations_baseline/'\n",
    "\n",
    "gt_all = np.array([])\n",
    "pred_all = np.array([])\n",
    "for i in range(60):\n",
    "    if i % 10 == 0:\n",
    "        print(i)\n",
    "    \n",
    "    result = np.loadtxt(evaluation_folder + str(i).zfill(6) + '.txt', dtype=np.uint32)\n",
    "    gt = result[:,0]\n",
    "    gt = gt & 0xFFFF\n",
    "    pred = result[:,1]\n",
    "    gt_all = np.concatenate((gt_all, gt))\n",
    "    pred_all = np.concatenate((pred_all, pred))\n",
    "    \n",
    "gt_all_base = gt_all\n",
    "pred_all_base = pred_all\n",
    "\n",
    "classes_base = np.unique(np.concatenate((gt_all_base, pred_all_base), axis=0))\n",
    "scores_base = jaccard_score(gt_all_base, pred_all_base, average=None)\n",
    "    \n",
    "print(np.unique(np.concatenate((gt_all, pred_all), axis=0)) )\n",
    "print(jaccard_score(gt_all, pred_all, average=None))"
   ]
  },
  {
   "cell_type": "code",
   "execution_count": 22,
   "metadata": {},
   "outputs": [],
   "source": [
    "scores_ours_ext = np.concatenate((scores_ours[0:2], np.array([0]), scores_ours[2:4], np.array([0]), scores_ours[4:]))"
   ]
  },
  {
   "cell_type": "code",
   "execution_count": 20,
   "metadata": {},
   "outputs": [
    {
     "data": {
      "text/plain": [
       "array([ 0.,  1.,  5.,  6.,  9., 10., 11., 12., 13., 14., 15., 16., 17.,\n",
       "       18., 19.])"
      ]
     },
     "execution_count": 20,
     "metadata": {},
     "output_type": "execute_result"
    }
   ],
   "source": [
    "classes_ours"
   ]
  },
  {
   "cell_type": "code",
   "execution_count": 19,
   "metadata": {},
   "outputs": [
    {
     "data": {
      "text/plain": [
       "array([ 0.,  1.,  4.,  5.,  6.,  7.,  9., 10., 11., 12., 13., 14., 15.,\n",
       "       16., 17., 18., 19.])"
      ]
     },
     "execution_count": 19,
     "metadata": {},
     "output_type": "execute_result"
    }
   ],
   "source": [
    "classes_base"
   ]
  },
  {
   "cell_type": "code",
   "execution_count": 26,
   "metadata": {},
   "outputs": [
    {
     "name": "stdout",
     "output_type": "stream",
     "text": [
      "0 & 4.45 & 4.45 \\\\\n",
      "1 & 0.00313 & 1.29 \\\\\n",
      "4 & 0.0 & 0.0 \\\\\n",
      "5 & 0.0 & 0.0 \\\\\n",
      "6 & 0.0 & 0.0 \\\\\n",
      "7 & 0.0 & 0.0 \\\\\n",
      "9 & 0.314 & 0.313 \\\\\n",
      "10 & 0.0 & 0.0 \\\\\n",
      "11 & 0.000524 & 0.0 \\\\\n",
      "12 & 0.848 & 0.828 \\\\\n",
      "13 & 0.000723 & 0.000728 \\\\\n",
      "14 & 0.00731 & 0.00731 \\\\\n",
      "15 & 0.0932 & 0.0818 \\\\\n",
      "16 & 0.0044 & 0.00446 \\\\\n",
      "17 & 0.632 & 0.632 \\\\\n",
      "18 & 0.0 & 0.0 \\\\\n",
      "19 & 0.0 & 0.0 \\\\\n"
     ]
    }
   ],
   "source": [
    "for i in range(len(classes_base)):\n",
    "    print('{:1g}'.format(classes_base[i]) + ' & ' \\\n",
    "          + '{:.3}'.format(100*scores_ours_ext[i]) + ' & ' \\\n",
    "          + '{:.3}'.format(100*scores_base[i]) + ' \\\\\\\\')"
   ]
  }
 ],
 "metadata": {
  "kernelspec": {
   "display_name": "Python 3",
   "language": "python",
   "name": "python3"
  },
  "language_info": {
   "codemirror_mode": {
    "name": "ipython",
    "version": 3
   },
   "file_extension": ".py",
   "mimetype": "text/x-python",
   "name": "python",
   "nbconvert_exporter": "python",
   "pygments_lexer": "ipython3",
   "version": "3.7.7"
  }
 },
 "nbformat": 4,
 "nbformat_minor": 2
}
